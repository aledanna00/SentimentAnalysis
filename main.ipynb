{
 "cells": [
  {
   "cell_type": "code",
   "execution_count": 1,
   "metadata": {},
   "outputs": [],
   "source": [
    "import pandas as pd\n",
    "import langid \n",
    "from sklearn.model_selection import train_test_split\n",
    "from sklearn.feature_extraction.text import TfidfVectorizer\n",
    "from sklearn.naive_bayes import MultinomialNB\n",
    "from sklearn.metrics import classification_report, accuracy_score\n"
   ]
  },
  {
   "cell_type": "code",
   "execution_count": 2,
   "metadata": {},
   "outputs": [
    {
     "name": "stdout",
     "output_type": "stream",
     "text": [
      "is_positive\n",
      "Positive    102377\n",
      "Negative     98346\n",
      "Name: count, dtype: int64\n"
     ]
    }
   ],
   "source": [
    "# Carica il dataset\n",
    "file_path = 'input/output.csv'\n",
    "data = pd.read_csv(file_path)\n",
    "\n",
    "# Rimozione righe con contenuto nullo\n",
    "data = data.dropna(subset=['content'])\n",
    "\n",
    "\n",
    "# Controlla le classi nella colonna 'is_positive'\n",
    "print(data['is_positive'].value_counts())\n"
   ]
  },
  {
   "cell_type": "code",
   "execution_count": 3,
   "metadata": {},
   "outputs": [],
   "source": [
    "# Feature di interesse\n",
    "X = data['content']\n",
    "y = data['is_positive']\n",
    "\n",
    "X_train, X_test, y_train, y_test = train_test_split(X, y, test_size=0.3, random_state=42, stratify=y)\n"
   ]
  },
  {
   "cell_type": "code",
   "execution_count": 4,
   "metadata": {},
   "outputs": [
    {
     "ename": "NameError",
     "evalue": "name 'detect_language' is not defined",
     "output_type": "error",
     "traceback": [
      "\u001b[1;31m---------------------------------------------------------------------------\u001b[0m",
      "\u001b[1;31mNameError\u001b[0m                                 Traceback (most recent call last)",
      "Cell \u001b[1;32mIn[4], line 2\u001b[0m\n\u001b[0;32m      1\u001b[0m \u001b[38;5;66;03m# Trasformare il testo in rappresentazioni numeriche\u001b[39;00m\n\u001b[1;32m----> 2\u001b[0m tfidf \u001b[38;5;241m=\u001b[39m TfidfVectorizer(stop_words\u001b[38;5;241m=\u001b[39m\u001b[43mdetect_language\u001b[49m, max_features\u001b[38;5;241m=\u001b[39m\u001b[38;5;241m10000\u001b[39m)\n\u001b[0;32m      3\u001b[0m X_train_tfidf \u001b[38;5;241m=\u001b[39m tfidf\u001b[38;5;241m.\u001b[39mfit_transform(X_train)\n\u001b[0;32m      4\u001b[0m X_test_tfidf \u001b[38;5;241m=\u001b[39m tfidf\u001b[38;5;241m.\u001b[39mtransform(X_test)\n",
      "\u001b[1;31mNameError\u001b[0m: name 'detect_language' is not defined"
     ]
    }
   ],
   "source": [
    "# Trasformare il testo in rappresentazioni numeriche\n",
    "tfidf = TfidfVectorizer(stop_words=\"english\", max_features=10000)\n",
    "X_train_tfidf = tfidf.fit_transform(X_train)\n",
    "X_test_tfidf = tfidf.transform(X_test)\n"
   ]
  },
  {
   "cell_type": "markdown",
   "metadata": {},
   "source": [
    "## Addestramento Modello"
   ]
  },
  {
   "cell_type": "code",
   "execution_count": 16,
   "metadata": {},
   "outputs": [],
   "source": [
    "model = MultinomialNB()\n",
    "model.fit(X_train_tfidf, y_train)\n",
    "\n",
    "y_pred = model.predict(X_test_tfidf)\n"
   ]
  },
  {
   "cell_type": "code",
   "execution_count": null,
   "metadata": {},
   "outputs": [
    {
     "name": "stdout",
     "output_type": "stream",
     "text": [
      "Accuracy: 0.8212464918544597\n",
      "\n",
      "Classification Report:\n",
      "               precision    recall  f1-score   support\n",
      "\n",
      "    Negative       0.85      0.77      0.81     29504\n",
      "    Positive       0.80      0.87      0.83     30713\n",
      "\n",
      "    accuracy                           0.82     60217\n",
      "   macro avg       0.82      0.82      0.82     60217\n",
      "weighted avg       0.82      0.82      0.82     60217\n",
      "\n"
     ]
    }
   ],
   "source": [
    "# Valutazione\n",
    "print(\"Accuracy:\", accuracy_score(y_test, y_pred))\n",
    "print(\"\\nClassification Report:\\n\", classification_report(y_test, y_pred))\n"
   ]
  },
  {
   "cell_type": "code",
   "execution_count": null,
   "metadata": {},
   "outputs": [
    {
     "name": "stdout",
     "output_type": "stream",
     "text": [
      "                                              review predicted    actual\n",
      "0                                             cheese  Positive  Positive\n",
      "1  great puzzles,great voice acting,great comedy,...  Positive  Positive\n",
      "2                          good game would recommend  Positive  Positive\n",
      "3  okay okay for real i didnt hate it UNTIL I SOM...  Positive  Negative\n",
      "4                                    Прекрасная игра  Negative  Positive\n",
      "5             Peak game is super good and fun. 10/10  Positive  Positive\n",
      "6             If you wanna sell your soul install it  Negative  Negative\n",
      "7  The game scene as the worse than opposing forc...  Positive  Positive\n",
      "8                       this is og and the best game  Positive  Positive\n",
      "9  It's not very popular, but there's quite a lot...  Positive  Positive\n"
     ]
    }
   ],
   "source": [
    "# Mostriamo alcune recensioni e la loro predizione\n",
    "test_results = pd.DataFrame({\n",
    "    'review': X_test,\n",
    "    'predicted': y_pred,\n",
    "    'actual': y_test\n",
    "}).reset_index(drop=True)\n",
    "\n",
    "print(test_results.head(10))"
   ]
  },
  {
   "cell_type": "code",
   "execution_count": 19,
   "metadata": {},
   "outputs": [
    {
     "name": "stdout",
     "output_type": "stream",
     "text": [
      "['Positive' 'Negative']\n"
     ]
    }
   ],
   "source": [
    "# Nuove recensioni\n",
    "new_reviews = [\"This game is amazing!\", \"It's a buggy mess.\"]\n",
    "new_reviews_tfidf = tfidf.transform(new_reviews)\n",
    "\n",
    "# Predizione\n",
    "predictions = model.predict(new_reviews_tfidf)\n",
    "print(predictions)\n"
   ]
  }
 ],
 "metadata": {
  "kernelspec": {
   "display_name": "Python 3",
   "language": "python",
   "name": "python3"
  },
  "language_info": {
   "codemirror_mode": {
    "name": "ipython",
    "version": 3
   },
   "file_extension": ".py",
   "mimetype": "text/x-python",
   "name": "python",
   "nbconvert_exporter": "python",
   "pygments_lexer": "ipython3",
   "version": "3.12.7"
  }
 },
 "nbformat": 4,
 "nbformat_minor": 2
}
