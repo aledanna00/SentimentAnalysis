{
 "cells": [
  {
   "cell_type": "code",
   "execution_count": 2,
   "metadata": {},
   "outputs": [],
   "source": [
    "import pandas as pd\n",
    "import re\n",
    "from sklearn.model_selection import train_test_split\n",
    "from sklearn.feature_extraction.text import TfidfVectorizer\n",
    "from sklearn.naive_bayes import MultinomialNB\n",
    "from sklearn.metrics import classification_report, accuracy_score\n"
   ]
  },
  {
   "cell_type": "code",
   "execution_count": null,
   "metadata": {},
   "outputs": [
    {
     "name": "stdout",
     "output_type": "stream",
     "text": [
      "Numero di righe prima del filtro: 200723\n",
      "Numero di righe dopo il filtro: 141278\n",
      "Distribuzione delle classi:\n",
      " is_positive\n",
      "Positive    73178\n",
      "Negative    68100\n",
      "Name: count, dtype: int64\n"
     ]
    }
   ],
   "source": [
    "# Carica il dataset\n",
    "file_path = 'input/output.csv'\n",
    "data = pd.read_csv(file_path)\n",
    "\n",
    "data = data.dropna(subset=['content'])\n",
    "print(\"Numero di righe prima del filtro:\", len(data))\n",
    "\n",
    "def is_english_alphabet(text):\n",
    "    return bool(re.match(r'^[A-Za-z0-9\\s.,!?\\'\"]+$', text))\n",
    "\n",
    "\n",
    "data['is_english'] = data['content'].apply(is_english_alphabet)\n",
    "data = data[data['is_english']]\n",
    "print(\"Numero di righe dopo il filtro:\", len(data))\n",
    "\n",
    "print(\"Distribuzione delle classi:\\n\", data['is_positive'].value_counts())"
   ]
  },
  {
   "cell_type": "code",
   "execution_count": 4,
   "metadata": {},
   "outputs": [],
   "source": [
    "# Feature di interesse\n",
    "X = data['content']\n",
    "y = data['is_positive']\n",
    "\n",
    "X_train, X_test, y_train, y_test = train_test_split(X, y, test_size=0.3, random_state=42, stratify=y)\n"
   ]
  },
  {
   "cell_type": "code",
   "execution_count": 5,
   "metadata": {},
   "outputs": [],
   "source": [
    "# Trasformare il testo in rappresentazioni numeriche\n",
    "tfidf = TfidfVectorizer(stop_words=\"english\", max_features=10000)\n",
    "X_train_tfidf = tfidf.fit_transform(X_train)\n",
    "X_test_tfidf = tfidf.transform(X_test)\n"
   ]
  },
  {
   "cell_type": "markdown",
   "metadata": {},
   "source": [
    "## Addestramento Modello"
   ]
  },
  {
   "cell_type": "code",
   "execution_count": 6,
   "metadata": {},
   "outputs": [],
   "source": [
    "model = MultinomialNB()\n",
    "model.fit(X_train_tfidf, y_train)\n",
    "\n",
    "y_pred = model.predict(X_test_tfidf)\n"
   ]
  },
  {
   "cell_type": "code",
   "execution_count": 7,
   "metadata": {},
   "outputs": [
    {
     "name": "stdout",
     "output_type": "stream",
     "text": [
      "Accuracy: 0.8236362778406946\n",
      "\n",
      "Classification Report:\n",
      "               precision    recall  f1-score   support\n",
      "\n",
      "    Negative       0.85      0.77      0.81     20430\n",
      "    Positive       0.80      0.87      0.84     21954\n",
      "\n",
      "    accuracy                           0.82     42384\n",
      "   macro avg       0.83      0.82      0.82     42384\n",
      "weighted avg       0.83      0.82      0.82     42384\n",
      "\n"
     ]
    }
   ],
   "source": [
    "# Valutazione\n",
    "print(\"Accuracy:\", accuracy_score(y_test, y_pred))\n",
    "print(\"\\nClassification Report:\\n\", classification_report(y_test, y_pred))\n"
   ]
  },
  {
   "cell_type": "code",
   "execution_count": 8,
   "metadata": {},
   "outputs": [
    {
     "name": "stdout",
     "output_type": "stream",
     "text": [
      "                                              review predicted    actual\n",
      "0                  Source engine is cool and bright.  Positive  Positive\n",
      "1  Great game I'll recommend the game to others a...  Positive  Positive\n",
      "2      having aids is more enjoyable then this shite  Negative  Negative\n",
      "3              Great game to play with your friends!  Positive  Positive\n",
      "4                           Why is this game dead...  Negative  Positive\n",
      "5                   one of the best games ever probs  Positive  Positive\n",
      "6  yep, still fun after all these years. Been pla...  Positive  Positive\n",
      "7  Old and no players but still better than fortnite  Positive  Positive\n",
      "8             cs 1.6 is better but css is still good  Positive  Positive\n",
      "9                     ONE OF THE BEST GAME EVER!!!!!  Positive  Positive\n"
     ]
    }
   ],
   "source": [
    "# Mostriamo alcune recensioni e la loro predizione\n",
    "test_results = pd.DataFrame({\n",
    "    'review': X_test,\n",
    "    'predicted': y_pred,\n",
    "    'actual': y_test\n",
    "}).reset_index(drop=True)\n",
    "\n",
    "print(test_results.head(10))"
   ]
  },
  {
   "cell_type": "code",
   "execution_count": 9,
   "metadata": {},
   "outputs": [
    {
     "name": "stdout",
     "output_type": "stream",
     "text": [
      "['Positive' 'Negative']\n"
     ]
    }
   ],
   "source": [
    "# Nuove recensioni\n",
    "new_reviews = [\"This game is amazing!\", \"It's a buggy mess.\"]\n",
    "new_reviews_tfidf = tfidf.transform(new_reviews)\n",
    "\n",
    "# Predizione\n",
    "predictions = model.predict(new_reviews_tfidf)\n",
    "print(predictions)\n"
   ]
  },
  {
   "cell_type": "markdown",
   "metadata": {},
   "source": [
    "## Testing dati"
   ]
  },
  {
   "cell_type": "code",
   "execution_count": 11,
   "metadata": {},
   "outputs": [
    {
     "name": "stdout",
     "output_type": "stream",
     "text": [
      "\n",
      "Nuove recensioni con predizioni:\n",
      "\n",
      "                                                         content predicted\n",
      "           This product is amazing! It exceeded my expectations.  Positive\n",
      "                I am very disappointed. The quality is terrible.  Negative\n",
      "     Fast delivery and great customer service. Highly recommend!  Negative\n",
      "     The item arrived broken and the support team was unhelpful.  Negative\n",
      "                     Good value for money. I would buy it again.  Negative\n",
      "            Terrible experience. Will not order from here again.  Negative\n",
      "                       Absolutely love it! Perfect for my needs.  Positive\n",
      "                              Not as described. Very misleading.  Negative\n",
      "           Fantastic quality and easy to use. Worth every penny.  Positive\n",
      "        The worst purchase I have ever made. Avoid at all costs.  Negative\n",
      "       The packaging was great, and the product works perfectly.  Positive\n",
      "      Awful customer service. They never responded to my emails.  Negative\n",
      "Great price for the quality. I am very happy with this purchase.  Positive\n",
      " The product stopped working after a week. Total waste of money.  Negative\n",
      "              Superb! I’ve already recommended it to my friends.  Positive\n",
      "      The colors faded after the first wash. Very disappointing.  Negative\n",
      "        Quick shipping and exactly as described. Will buy again.  Positive\n",
      "                 Too expensive for what it offers. Not worth it.  Positive\n",
      "            Excellent craftsmanship and attention to detail. A+!  Positive\n",
      "   The instructions were unclear, and the setup was a nightmare.  Negative\n",
      "       The app is user-friendly and has all the features I need.  Negative\n",
      "              Overpriced and underwhelming. Would not recommend.  Negative\n",
      "                      My kids love it! It's safe and fun to use.  Negative\n",
      "        The material feels cheap and flimsy. Not durable at all.  Positive\n",
      "             Exceeded my expectations. The quality is top-notch.  Positive\n",
      "         The delivery took forever, and the product was damaged.  Negative\n",
      "                  Great for beginners. Easy to use and reliable.  Positive\n",
      "     Horrible experience. The item didn’t match the description.  Negative\n",
      "                  I’m so impressed! It’s better than I imagined.  Positive\n",
      "              The product was defective, and I had to return it.  Negative\n",
      "      Wonderful design and very functional. Perfect for my home.  Positive\n",
      "            Customer service went above and beyond to assist me.  Negative\n",
      "          The build quality is poor, and it doesn’t feel sturdy.  Negative\n",
      "   Absolutely fantastic! I couldn’t be happier with my purchase.  Positive\n",
      "         The product looks cheap and doesn’t work as advertised.  Negative\n",
      "       Arrived on time and in perfect condition. Very satisfied.  Positive\n",
      "                  I regret buying this. It’s not worth the hype.  Negative\n",
      " Excellent product! I’ll definitely order from this brand again.  Positive\n",
      "         The item was missing parts, and I couldn’t assemble it.  Negative\n",
      "              Very comfortable and stylish. I wear it every day.  Positive\n",
      "                The worst customer service I’ve ever dealt with.  Negative\n",
      "        Highly durable and works like a charm. Great investment!  Positive\n",
      "        The product is overpriced and doesn’t meet expectations.  Negative\n",
      "      Very intuitive and easy to set up. Great for tech newbies.  Positive\n",
      "               The product arrived late and was poorly packaged.  Negative\n",
      "               Absolutely love this! It’s exactly what I needed.  Positive\n",
      "      The quality is mediocre, and it doesn’t justify the price.  Negative\n",
      "            Highly recommend this to anyone looking for quality.  Positive\n",
      "            Not worth the money. It broke after just a few uses.  Negative\n",
      "              Perfect for everyday use. Lightweight and compact.  Positive\n",
      " The product is faulty, and the replacement process is a hassle.  Negative\n",
      "                 Outstanding performance and very user-friendly.  Negative\n",
      "         The colors are vibrant, and the material feels premium.  Negative\n",
      "             Terrible experience. I’m never shopping here again.  Negative\n",
      "                      Perfect gift for my family. They loved it!  Positive\n",
      "      The item was scratched and looked used. Very disappointed.  Negative\n",
      "         Easy to use and works perfectly. Great value for money.  Positive\n"
     ]
    }
   ],
   "source": [
    "\n",
    "new_file_path = 'input/new_reviews.csv'\n",
    "new_data = pd.read_csv(new_file_path)\n",
    "\n",
    "new_reviews_tfidf = tfidf.transform(new_data['content'])\n",
    "\n",
    "# Predizione\n",
    "new_predictions = model.predict(new_reviews_tfidf)\n",
    "\n",
    "# Aggiungi le predizioni al dataframe\n",
    "new_data['predicted'] = new_predictions\n",
    "\n",
    "# Mostra le recensioni con le predizioni\n",
    "print(\"\\nNuove recensioni con predizioni:\\n\")\n",
    "print(new_data[['content', 'predicted']].to_string(index=False))\n"
   ]
  }
 ],
 "metadata": {
  "kernelspec": {
   "display_name": "Python 3",
   "language": "python",
   "name": "python3"
  },
  "language_info": {
   "codemirror_mode": {
    "name": "ipython",
    "version": 3
   },
   "file_extension": ".py",
   "mimetype": "text/x-python",
   "name": "python",
   "nbconvert_exporter": "python",
   "pygments_lexer": "ipython3",
   "version": "3.12.7"
  }
 },
 "nbformat": 4,
 "nbformat_minor": 2
}
