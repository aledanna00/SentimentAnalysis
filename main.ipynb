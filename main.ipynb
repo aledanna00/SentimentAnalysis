{
 "cells": [
  {
   "cell_type": "code",
   "execution_count": 78,
   "metadata": {},
   "outputs": [],
   "source": [
    "import pandas as pd\n",
    "import string\n",
    "import re\n",
    "import numpy as np\n",
    "from langdetect import detect\n",
    "from sklearn.utils import resample\n",
    "from sklearn.model_selection import train_test_split\n",
    "from sklearn.feature_extraction.text import TfidfVectorizer\n",
    "from sklearn.naive_bayes import MultinomialNB\n",
    "from sklearn.linear_model import LogisticRegression \n",
    "from sklearn.metrics import classification_report, accuracy_score, confusion_matrix\n",
    "from sklearn.pipeline import Pipeline  \n",
    "from sklearn.model_selection import cross_val_score, StratifiedKFold\n",
    "import matplotlib.pyplot as plt  \n",
    "import seaborn as sns "
   ]
  },
  {
   "cell_type": "code",
   "execution_count": 79,
   "metadata": {},
   "outputs": [],
   "source": [
    "def preprocess_text(text):\n",
    "    \"\"\"Preprocessing del testo\"\"\"\n",
    "    if pd.isna(text):\n",
    "        return \"\"\n",
    "    \n",
    "    # Converte in minuscolo\n",
    "    text = text.lower()\n",
    "    \n",
    "    # Rimuove URL\n",
    "    text = re.sub(r'http\\S+|www\\S+|https\\S+', '', text, flags=re.MULTILINE)\n",
    "\n",
    "    # Mantiene solo lettere, numeri, spazi e alcuni simboli\n",
    "    text = re.sub(r'[^a-zA-Z0-9\\s]', '', text)\n",
    "    \n",
    "    # Rimuove spazi multipli\n",
    "    text = re.sub(r'\\s+', ' ', text).strip()\n",
    "    \n",
    "    return text\n",
    "\n",
    "#print (stop_words)"
   ]
  },
  {
   "cell_type": "code",
   "execution_count": 80,
   "metadata": {},
   "outputs": [
    {
     "name": "stdout",
     "output_type": "stream",
     "text": [
      "id               0\n",
      "app_id           0\n",
      "content        428\n",
      "author_id        0\n",
      "is_positive      0\n",
      "dtype: int64\n",
      "Numero di righe prima del drop: 201151\n",
      "id             0\n",
      "app_id         0\n",
      "content        0\n",
      "author_id      0\n",
      "is_positive    0\n",
      "dtype: int64\n",
      "Numero di righe prima del filtro: 200723\n",
      "Numero di righe dopo il filtro: 138241\n",
      "Distribuzione delle classi:\n",
      " is_positive\n",
      "Negative    70746\n",
      "Positive    67495\n",
      "Name: count, dtype: int64\n"
     ]
    }
   ],
   "source": [
    "# Carica il dataset\n",
    "file_path = 'input/output.csv'\n",
    "data = pd.read_csv(file_path)\n",
    "\n",
    "print(data.isnull().sum())\n",
    "# Rimuove righe vuote della colonna 'content'\n",
    "print(\"Numero di righe prima del drop:\", len(data))\n",
    "data = data.dropna(subset=['content'])\n",
    "print(data.isnull().sum())\n",
    "print(\"Numero di righe prima del filtro:\", len(data))\n",
    "\n",
    "# Funzione per avere solo le recensioni scritte in inglese\n",
    "def is_english_alphabet(text):\n",
    "    \n",
    "    try:\n",
    "        # Minimo 10 caratteri per essere affidabile\n",
    "        if len(text.strip()) < 10:\n",
    "            return False\n",
    "        \n",
    "        language = detect(text)\n",
    "        return language == 'en'\n",
    "    \n",
    "    except:\n",
    "        # Se langdetect fallisce, return False (troppo ambiguo)\n",
    "        return False\n",
    "\n",
    "#Processa i dati\n",
    "data['is_english'] = data['content'].apply(is_english_alphabet)\n",
    "data['processed_content'] = data['content'].apply(preprocess_text)\n",
    "data = data[data['is_english']]\n",
    "print(\"Numero di righe dopo il filtro:\", len(data))\n",
    "\n",
    "print(\"Distribuzione delle classi:\\n\", data['is_positive'].value_counts())"
   ]
  },
  {
   "cell_type": "code",
   "execution_count": 81,
   "metadata": {},
   "outputs": [
    {
     "name": "stdout",
     "output_type": "stream",
     "text": [
      "File 'recensioni_inglese_filtrate.csv' salvato!\n"
     ]
    }
   ],
   "source": [
    "filtered_reviews = data[['content', 'processed_content', 'is_positive']].copy()\n",
    "filtered_reviews.to_csv('recensioni_inglese_filtrate.csv', index=False)\n",
    "print(\"File 'recensioni_inglese_filtrate.csv' salvato!\")"
   ]
  },
  {
   "cell_type": "code",
   "execution_count": 82,
   "metadata": {},
   "outputs": [
    {
     "name": "stdout",
     "output_type": "stream",
     "text": [
      "Prima del bilanciamento:\n",
      "is_positive\n",
      "Negative    70746\n",
      "Positive    67495\n",
      "Name: count, dtype: int64\n",
      "Dopo il bilanciamento:\n",
      "is_positive\n",
      "Positive    67495\n",
      "Negative    67495\n",
      "Name: count, dtype: int64\n"
     ]
    }
   ],
   "source": [
    "negative = data[data[\"is_positive\"] == \"Negative\"]\n",
    "positive = data[data[\"is_positive\"] == \"Positive\"]\n",
    "\n",
    "# Controlla la distribuzione\n",
    "print(\"Prima del bilanciamento:\")\n",
    "print(data[\"is_positive\"].value_counts())\n",
    "\n",
    "# Numero da sottocampionare (qui riduco i negativi)\n",
    "n_samples = len(positive)\n",
    "\n",
    "negative_downsampled = resample(\n",
    "    negative,\n",
    "    replace=False,\n",
    "    n_samples=n_samples,\n",
    "    random_state=42\n",
    ")\n",
    "\n",
    "# Combina\n",
    "data_balanced = pd.concat([negative_downsampled, positive])\n",
    "\n",
    "# Shuffle\n",
    "data_balanced = data_balanced.sample(frac=1, random_state=42).reset_index(drop=True)\n",
    "\n",
    "# Controlla la nuova distribuzione\n",
    "print(\"Dopo il bilanciamento:\")\n",
    "print(data_balanced[\"is_positive\"].value_counts())"
   ]
  },
  {
   "cell_type": "code",
   "execution_count": 83,
   "metadata": {},
   "outputs": [],
   "source": [
    "# Feature di interesse\n",
    "X = data_balanced['processed_content']\n",
    "y = data_balanced['is_positive']\n",
    "\n",
    "X_train, X_test, y_train, y_test = train_test_split(X, y, test_size=0.3, random_state=42, stratify=y)\n"
   ]
  },
  {
   "cell_type": "markdown",
   "metadata": {},
   "source": [
    "## Addestramento e Confronto modelli"
   ]
  },
  {
   "cell_type": "code",
   "execution_count": 84,
   "metadata": {},
   "outputs": [],
   "source": [
    "#Funzione da usare per la validaizone dei modelli\n",
    "def validation(model, X, y, cv=5):\n",
    "    skf = StratifiedKFold(n_splits=cv, shuffle=True, random_state=42)\n",
    "    scores = cross_val_score(model, X, y, cv=skf, scoring='accuracy')\n",
    "    return scores.mean(), scores.std()"
   ]
  },
  {
   "cell_type": "code",
   "execution_count": 85,
   "metadata": {},
   "outputs": [],
   "source": [
    "# Dizionario per salvare i risultati\n",
    "model_results = {}"
   ]
  },
  {
   "cell_type": "code",
   "execution_count": 106,
   "metadata": {},
   "outputs": [],
   "source": [
    "# Trasformare il testo in rappresentazioni numeriche\n",
    "tfidf = TfidfVectorizer(stop_words=\"english\",\n",
    "                         max_features=25000,\n",
    "                         ngram_range=(1, 3),\n",
    "                         min_df=2,\n",
    "                         max_df=0.90,\n",
    "                         sublinear_tf=True\n",
    "                         )\n",
    "X_train_tfidf = tfidf.fit_transform(X_train)\n",
    "X_test_tfidf = tfidf.transform(X_test)\n"
   ]
  },
  {
   "cell_type": "code",
   "execution_count": 107,
   "metadata": {},
   "outputs": [
    {
     "name": "stdout",
     "output_type": "stream",
     "text": [
      "\n",
      "--- NAIVE BAYES ---\n",
      "Accuracy: 0.8454700348173939\n",
      "\n",
      "Classification Report:\n",
      "               precision    recall  f1-score   support\n",
      "\n",
      "    Negative       0.85      0.84      0.84     20249\n",
      "    Positive       0.84      0.85      0.85     20248\n",
      "\n",
      "    accuracy                           0.85     40497\n",
      "   macro avg       0.85      0.85      0.85     40497\n",
      "weighted avg       0.85      0.85      0.85     40497\n",
      "\n",
      "Cross-validation accuracy: 0.8457 (+/- 0.0064)\n"
     ]
    }
   ],
   "source": [
    "# Naive Bayes\n",
    "print(\"\\n--- NAIVE BAYES ---\")\n",
    "nb_model = MultinomialNB()\n",
    "nb_model.fit(X_train_tfidf, y_train)\n",
    "nb_pred = nb_model.predict(X_test_tfidf)\n",
    "nb_accuracy = accuracy_score(y_test, nb_pred)\n",
    "nb_cv_mean, nb_cv_std = validation(nb_model, X_train_tfidf, y_train, cv=5)\n",
    "\n",
    "\n",
    "# Valutazione\n",
    "\n",
    "print(\"Accuracy:\", nb_accuracy)\n",
    "print(\"\\nClassification Report:\\n\", classification_report(y_test, nb_pred))\n",
    "# Cross-validation per Naive Bayes\n",
    "print(f\"Cross-validation accuracy: {nb_cv_mean:.4f} (+/- {nb_cv_std * 2:.4f})\")\n",
    "\n",
    "model_results['Naive Bayes'] = {\n",
    "    'accuracy': nb_accuracy,\n",
    "    'cv_mean': nb_cv_mean,\n",
    "    'cv_std': nb_cv_std,\n",
    "    'predictions': nb_pred\n",
    "}"
   ]
  },
  {
   "cell_type": "code",
   "execution_count": 108,
   "metadata": {},
   "outputs": [
    {
     "name": "stdout",
     "output_type": "stream",
     "text": [
      "\n",
      "--- LOGISTIC REGRESSION ---\n",
      "Accuracy: 0.8578\n",
      "Classification Report:\n",
      "               precision    recall  f1-score   support\n",
      "\n",
      "    Negative       0.87      0.85      0.86     20249\n",
      "    Positive       0.85      0.87      0.86     20248\n",
      "\n",
      "    accuracy                           0.86     40497\n",
      "   macro avg       0.86      0.86      0.86     40497\n",
      "weighted avg       0.86      0.86      0.86     40497\n",
      "\n",
      "Cross-validation accuracy: 0.8564 (+/- 0.0034)\n"
     ]
    }
   ],
   "source": [
    "# Modello 2: Logistic Regression\n",
    "print(\"\\n--- LOGISTIC REGRESSION ---\")\n",
    "lr_model = LogisticRegression(random_state=42, max_iter=1000)\n",
    "lr_model.fit(X_train_tfidf, y_train)\n",
    "lr_pred = lr_model.predict(X_test_tfidf)\n",
    "lr_accuracy = accuracy_score(y_test, lr_pred)\n",
    "lr_cv_mean, lr_cv_std = validation(lr_model, X_train_tfidf, y_train)\n",
    "\n",
    "print(f\"Accuracy: {lr_accuracy:.4f}\")\n",
    "print(\"Classification Report:\\n\", classification_report(y_test, lr_pred))\n",
    "print(f\"Cross-validation accuracy: {lr_cv_mean:.4f} (+/- {lr_cv_std * 2:.4f})\")\n",
    "\n",
    "model_results['Logistic Regression'] = {\n",
    "    'model': lr_model,\n",
    "    'accuracy': lr_accuracy,\n",
    "    'cv_mean': lr_cv_mean,\n",
    "    'cv_std': lr_cv_std,\n",
    "    'predictions': lr_pred\n",
    "}\n"
   ]
  },
  {
   "cell_type": "code",
   "execution_count": 109,
   "metadata": {},
   "outputs": [],
   "source": [
    "def create_visualizations(model_results, y_test):\n",
    "    \"\"\"Crea visualizzazioni complete\"\"\"\n",
    "    print(\"\\n📊 Creando visualizzazioni...\")\n",
    "    \n",
    "    # Trova il miglior modello\n",
    "    best_model_name = max(model_results.keys(), key=lambda x: model_results[x]['accuracy'])\n",
    "    best_predictions = model_results[best_model_name]['predictions']\n",
    "    \n",
    "    # Crea figura con subplots\n",
    "    fig, axes = plt.subplots(2, 2, figsize=(15, 12))\n",
    "    fig.suptitle('Analisi Sentiment - Risultati Modelli', fontsize=16, fontweight='bold')\n",
    "    \n",
    "    # 1. Confronto accuratezze\n",
    "    models = list(model_results.keys())\n",
    "    accuracies = [model_results[model]['accuracy'] for model in models]\n",
    "    cv_means = [model_results[model]['cv_mean'] for model in models]\n",
    "    cv_stds = [model_results[model]['cv_std'] for model in models]\n",
    "    \n",
    "    x = np.arange(len(models))\n",
    "    width = 0.35\n",
    "    \n",
    "    bars1 = axes[0,0].bar(x - width/2, accuracies, width, label='Test Accuracy', alpha=0.8, color='skyblue')\n",
    "    bars2 = axes[0,0].bar(x + width/2, cv_means, width, label='CV Mean', alpha=0.8, color='lightcoral')\n",
    "    \n",
    "    # Aggiungi error bars per CV\n",
    "    axes[0,0].errorbar(x + width/2, cv_means, yerr=cv_stds, fmt='none', color='black', capsize=5)\n",
    "    \n",
    "    axes[0,0].set_xlabel('Modelli')\n",
    "    axes[0,0].set_ylabel('Accuracy')\n",
    "    axes[0,0].set_title('Confronto Accuratezza Modelli')\n",
    "    axes[0,0].set_xticks(x)\n",
    "    axes[0,0].set_xticklabels(models)\n",
    "    axes[0,0].legend()\n",
    "    axes[0,0].grid(True, alpha=0.3)\n",
    "    \n",
    "    # Aggiungi valori sopra le barre\n",
    "    for bar, acc in zip(bars1, accuracies):\n",
    "        height = bar.get_height()\n",
    "        axes[0,0].text(bar.get_x() + bar.get_width()/2., height + 0.005,\n",
    "                      f'{acc:.3f}', ha='center', va='bottom', fontweight='bold')\n",
    "    \n",
    "    # 2. Confusion Matrix del miglior modello\n",
    "    cm = confusion_matrix(y_test, best_predictions)\n",
    "    sns.heatmap(cm, annot=True, fmt='d', ax=axes[0,1], cmap='Blues', \n",
    "                square=True, cbar_kws={'shrink': 0.8})\n",
    "    axes[0,1].set_title(f'Confusion Matrix - {best_model_name}')\n",
    "    axes[0,1].set_ylabel('Actual')\n",
    "    axes[0,1].set_xlabel('Predicted')\n",
    "    \n",
    "    # 3. Distribuzione predizioni\n",
    "    pred_counts = pd.Series(best_predictions).value_counts()\n",
    "    actual_counts = pd.Series(y_test).value_counts()\n",
    "    \n",
    "    x_pos = np.arange(len(pred_counts))\n",
    "    axes[1,0].bar(x_pos - 0.2, actual_counts.values, 0.4, label='Actual', alpha=0.8, color='green')\n",
    "    axes[1,0].bar(x_pos + 0.2, pred_counts.values, 0.4, label='Predicted', alpha=0.8, color='orange')\n",
    "    axes[1,0].set_xlabel('Classi')\n",
    "    axes[1,0].set_ylabel('Count')\n",
    "    axes[1,0].set_title('Distribuzione Classi: Actual vs Predicted')\n",
    "    axes[1,0].set_xticks(x_pos)\n",
    "    axes[1,0].set_xticklabels(pred_counts.index)\n",
    "    axes[1,0].legend()\n",
    "    axes[1,0].grid(True, alpha=0.3)\n",
    "    \n",
    "    # 4. Metriche dettagliate\n",
    "    from sklearn.metrics import precision_score, recall_score, f1_score\n",
    "    \n",
    "    metrics_data = []\n",
    "    for model_name, results in model_results.items():\n",
    "        pred = results['predictions']\n",
    "        metrics_data.append({\n",
    "            'Model': model_name,\n",
    "            'Accuracy': accuracy_score(y_test, pred),\n",
    "            'Precision': precision_score(y_test, pred, pos_label='Positive'),\n",
    "            'Recall': recall_score(y_test, pred, pos_label='Positive'),\n",
    "            'F1-Score': f1_score(y_test, pred, pos_label='Positive')\n",
    "        })\n",
    "    \n",
    "    metrics_df = pd.DataFrame(metrics_data)\n",
    "    \n",
    "    # Grafico a barre delle metriche\n",
    "    metrics_to_plot = ['Accuracy', 'Precision', 'Recall', 'F1-Score']\n",
    "    x = np.arange(len(metrics_to_plot))\n",
    "    width = 0.35\n",
    "    \n",
    "    for i, model in enumerate(models):\n",
    "        values = [metrics_df[metrics_df['Model'] == model][metric].iloc[0] for metric in metrics_to_plot]\n",
    "        axes[1,1].bar(x + i * width, values, width, label=model, alpha=0.8)\n",
    "    \n",
    "    axes[1,1].set_xlabel('Metriche')\n",
    "    axes[1,1].set_ylabel('Score')\n",
    "    axes[1,1].set_title('Confronto Metriche di Performance')\n",
    "    axes[1,1].set_xticks(x + width / 2)\n",
    "    axes[1,1].set_xticklabels(metrics_to_plot)\n",
    "    axes[1,1].legend()\n",
    "    axes[1,1].grid(True, alpha=0.3)\n",
    "    \n",
    "    plt.tight_layout()\n",
    "    plt.show()\n",
    "    \n",
    "    return best_model_name, metrics_df"
   ]
  },
  {
   "cell_type": "code",
   "execution_count": 110,
   "metadata": {},
   "outputs": [
    {
     "name": "stdout",
     "output_type": "stream",
     "text": [
      "\n",
      "📊 Creando visualizzazioni...\n"
     ]
    },
    {
     "data": {
      "image/png": "[encoded data removed]",
      "text/plain": [
       "<Figure size 1500x1200 with 5 Axes>"
      ]
     },
     "metadata": {},
     "output_type": "display_data"
    }
   ],
   "source": [
    "# Crea visualizzazioni\n",
    "best_model_name, metrics_df = create_visualizations(model_results, y_test)"
   ]
  },
  {
   "cell_type": "code",
   "execution_count": 111,
   "metadata": {},
   "outputs": [
    {
     "name": "stdout",
     "output_type": "stream",
     "text": [
      "\n",
      "🏆 MIGLIOR MODELLO: Logistic Regression\n",
      "Accuracy: 0.8578\n",
      "\n",
      "📊 Metriche dettagliate:\n",
      "                 Model  Accuracy  Precision  Recall  F1-Score\n",
      "0          Naive Bayes    0.8455     0.8395  0.8542    0.8468\n",
      "1  Logistic Regression    0.8578     0.8502  0.8686    0.8593\n"
     ]
    }
   ],
   "source": [
    "    # Mostra metriche dettagliate\n",
    "print(f\"\\n🏆 MIGLIOR MODELLO: {best_model_name}\")\n",
    "print(f\"Accuracy: {model_results[best_model_name]['accuracy']:.4f}\")\n",
    "print(\"\\n📊 Metriche dettagliate:\")\n",
    "print(metrics_df.round(4))"
   ]
  },
  {
   "cell_type": "code",
   "execution_count": 112,
   "metadata": {},
   "outputs": [],
   "source": [
    "# Trova esempi di errori\n",
    "test_results = pd.DataFrame({\n",
    "    'review': X_test.values,\n",
    "    'actual': y_test.values,\n",
    "    'predicted': best_model_name\n",
    "})\n"
   ]
  },
  {
   "cell_type": "code",
   "execution_count": 113,
   "metadata": {},
   "outputs": [
    {
     "name": "stdout",
     "output_type": "stream",
     "text": [
      "                                              review predicted    actual\n",
      "0               i only play it cause friends play it  Negative  Negative\n",
      "1                                         shits dope  Positive  Positive\n",
      "2  wonderful game that started an entire genre st...  Positive  Positive\n",
      "3  its definitely not at the same level as opposi...  Positive  Positive\n",
      "4  from back in the day the original reason i dow...  Positive  Positive\n",
      "5                     geeked up playing xbox all day  Positive  Negative\n",
      "6                               bro wake up its 2004  Negative  Positive\n",
      "7                     awesome game but please fixtf2  Negative  Negative\n",
      "8  horrible community if you are a new player and...  Negative  Negative\n",
      "9                                     fuck this game  Negative  Negative\n"
     ]
    }
   ],
   "source": [
    "# Mostriamo alcune recensioni e la loro predizione\n",
    "test_results = pd.DataFrame({\n",
    "    'review': X_test,\n",
    "    'predicted': nb_pred,\n",
    "    'actual': y_test\n",
    "}).reset_index(drop=True)\n",
    "\n",
    "print(test_results.head(10)) "
   ]
  },
  {
   "cell_type": "code",
   "execution_count": 114,
   "metadata": {},
   "outputs": [
    {
     "name": "stdout",
     "output_type": "stream",
     "text": [
      "\n",
      "Falsi Positivi (predetti Positive ma sono Negative): 3306\n",
      "Esempi:\n",
      "- geeked up playing xbox all day...\n",
      "- too vague and classic gameplay...\n",
      "- revolutionary game that isnt super fun to play now...\n",
      "\n",
      "Falsi Negativi (predetti Negative ma sono Positive): 2952\n",
      "Esempi:\n",
      "- bro wake up its 2004...\n",
      "- really hard one to explain to my parents since they found out video games cause violence...\n",
      "- i struggled and googled how to get it working on windows 10 i got it working i also got the extensio...\n"
     ]
    }
   ],
   "source": [
    "# Errori: predetti positivi ma actually negativi\n",
    "false_positives = test_results[(test_results['actual'] == 'Negative') & \n",
    "                              (test_results['predicted'] == 'Positive')]\n",
    "print(f\"\\nFalsi Positivi (predetti Positive ma sono Negative): {len(false_positives)}\")\n",
    "if len(false_positives) > 0:\n",
    "    print(\"Esempi:\")\n",
    "    for i, row in false_positives.head(3).iterrows():\n",
    "        print(f\"- {row['review'][:100]}...\")\n",
    "\n",
    "# Errori: predetti negativi ma actually positivi  \n",
    "false_negatives = test_results[(test_results['actual'] == 'Positive') & \n",
    "                              (test_results['predicted'] == 'Negative')]\n",
    "print(f\"\\nFalsi Negativi (predetti Negative ma sono Positive): {len(false_negatives)}\")\n",
    "if len(false_negatives) > 0:\n",
    "    print(\"Esempi:\")\n",
    "    for i, row in false_negatives.head(3).iterrows():\n",
    "        print(f\"- {row['review'][:100]}...\")"
   ]
  },
  {
   "cell_type": "markdown",
   "metadata": {},
   "source": [
    "## Testing dati"
   ]
  },
  {
   "cell_type": "code",
   "execution_count": 115,
   "metadata": {},
   "outputs": [
    {
     "name": "stdout",
     "output_type": "stream",
     "text": [
      "\n",
      "Nuove recensioni con predizioni:\n",
      "\n",
      "                                                         content predicted\n",
      "           This product is amazing! It exceeded my expectations.  Positive\n",
      "                I am very disappointed. The quality is terrible.  Negative\n",
      "     Fast delivery and great customer service. Highly recommend!  Positive\n",
      "     The item arrived broken and the support team was unhelpful.  Negative\n",
      "                     Good value for money. I would buy it again.  Negative\n",
      "            Terrible experience. Will not order from here again.  Negative\n",
      "                       Absolutely love it! Perfect for my needs.  Positive\n",
      "                              Not as described. Very misleading.  Positive\n",
      "           Fantastic quality and easy to use. Worth every penny.  Positive\n",
      "        The worst purchase I have ever made. Avoid at all costs.  Negative\n",
      "       The packaging was great, and the product works perfectly.  Positive\n",
      "      Awful customer service. They never responded to my emails.  Negative\n",
      "Great price for the quality. I am very happy with this purchase.  Positive\n",
      " The product stopped working after a week. Total waste of money.  Negative\n",
      "              Superb! I’ve already recommended it to my friends.  Positive\n",
      "      The colors faded after the first wash. Very disappointing.  Negative\n",
      "        Quick shipping and exactly as described. Will buy again.  Positive\n",
      "                 Too expensive for what it offers. Not worth it.  Negative\n",
      "            Excellent craftsmanship and attention to detail. A+!  Positive\n",
      "   The instructions were unclear, and the setup was a nightmare.  Negative\n",
      "       The app is user-friendly and has all the features I need.  Negative\n",
      "              Overpriced and underwhelming. Would not recommend.  Negative\n",
      "                      My kids love it! It's safe and fun to use.  Positive\n",
      "        The material feels cheap and flimsy. Not durable at all.  Positive\n",
      "             Exceeded my expectations. The quality is top-notch.  Positive\n",
      "         The delivery took forever, and the product was damaged.  Negative\n",
      "                  Great for beginners. Easy to use and reliable.  Positive\n",
      "     Horrible experience. The item didn’t match the description.  Negative\n",
      "                  I’m so impressed! It’s better than I imagined.  Positive\n",
      "              The product was defective, and I had to return it.  Negative\n",
      "      Wonderful design and very functional. Perfect for my home.  Positive\n",
      "            Customer service went above and beyond to assist me.  Negative\n",
      "          The build quality is poor, and it doesn’t feel sturdy.  Negative\n",
      "   Absolutely fantastic! I couldn’t be happier with my purchase.  Positive\n",
      "         The product looks cheap and doesn’t work as advertised.  Negative\n",
      "       Arrived on time and in perfect condition. Very satisfied.  Positive\n",
      "                  I regret buying this. It’s not worth the hype.  Negative\n",
      " Excellent product! I’ll definitely order from this brand again.  Positive\n",
      "         The item was missing parts, and I couldn’t assemble it.  Negative\n",
      "              Very comfortable and stylish. I wear it every day.  Positive\n",
      "                The worst customer service I’ve ever dealt with.  Negative\n",
      "        Highly durable and works like a charm. Great investment!  Positive\n",
      "        The product is overpriced and doesn’t meet expectations.  Negative\n",
      "      Very intuitive and easy to set up. Great for tech newbies.  Positive\n",
      "               The product arrived late and was poorly packaged.  Negative\n",
      "               Absolutely love this! It’s exactly what I needed.  Positive\n",
      "      The quality is mediocre, and it doesn’t justify the price.  Negative\n",
      "            Highly recommend this to anyone looking for quality.  Positive\n",
      "            Not worth the money. It broke after just a few uses.  Negative\n",
      "              Perfect for everyday use. Lightweight and compact.  Positive\n",
      " The product is faulty, and the replacement process is a hassle.  Negative\n",
      "                 Outstanding performance and very user-friendly.  Positive\n",
      "         The colors are vibrant, and the material feels premium.  Negative\n",
      "             Terrible experience. I’m never shopping here again.  Negative\n",
      "                      Perfect gift for my family. They loved it!  Positive\n",
      "      The item was scratched and looked used. Very disappointed.  Negative\n",
      "         Easy to use and works perfectly. Great value for money.  Positive\n"
     ]
    }
   ],
   "source": [
    "\n",
    "new_file_path = 'input/new_reviews.csv'\n",
    "new_data = pd.read_csv(new_file_path)\n",
    "\n",
    "new_reviews_tfidf = tfidf.transform(new_data['content'])\n",
    "\n",
    "#Predizione\n",
    "new_predictions = lr_model.predict(new_reviews_tfidf)\n",
    "\n",
    "# Aggiungi le predizioni al dataframe\n",
    "new_data['predicted'] = new_predictions\n",
    "\n",
    "# Mostra le recensioni con le predizioni\n",
    "print(\"\\nNuove recensioni con predizioni:\\n\")\n",
    "print(new_data[['content', 'predicted']].to_string(index=False))\n"
   ]
  }
 ],
 "metadata": {
  "kernelspec": {
   "display_name": "Python 3",
   "language": "python",
   "name": "python3"
  },
  "language_info": {
   "codemirror_mode": {
    "name": "ipython",
    "version": 3
   },
   "file_extension": ".py",
   "mimetype": "text/x-python",
   "name": "python",
   "nbconvert_exporter": "python",
   "pygments_lexer": "ipython3",
   "version": "3.13.3"
  }
 },
 "nbformat": 4,
 "nbformat_minor": 2
}
